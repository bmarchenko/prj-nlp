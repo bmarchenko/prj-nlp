{
 "cells": [
  {
   "cell_type": "code",
   "execution_count": 1,
   "metadata": {},
   "outputs": [],
   "source": [
    "import gensim\n",
    "import en_core_web_md\n",
    "\n",
    "nlp = en_core_web_md.load()\n",
    "# nlp.max_length=20**6\n",
    "\n",
    "# def preprocess(in_filename, out_filename):\n",
    "#     with open(in_filename, \"r\") as in_f:\n",
    "#         with open(out_filename, \"w\") as out_f:\n",
    "#             paragraph = []\n",
    "#             for line in in_f.readlines():\n",
    "#                 if line == \"\\n\":\n",
    "#                     print (len(paragraph))\n",
    "#                     print (paragraph)\n",
    "#                     text = nlp(\"\".join(paragraph))\n",
    "#                     for sent in text.sents:\n",
    "#                         out_f.write(\"{}\\n\".format(sent.text))\n",
    "#                     paragraph = []\n",
    "#                 else:    \n",
    "#                     paragraph.append(line)\n",
    "    #converts file to 1 line = 1 sentence\n",
    "# preprocess(\"capitalcritiqueo00marx_djvu.txt\", \"capital_processed.txt\")\n",
    "class MyText(object):\n",
    "    def __init__(self, filename):\n",
    "        self.filename = filename\n",
    "    \n",
    "    def __iter__(self):\n",
    "        with open(self.filename, \"r\") as f:\n",
    "            paragraph = []\n",
    "            for line in f.readlines():\n",
    "                if line == \"\\n\" and len(paragraph) > 2:\n",
    "                    text = nlp(\"\".join(paragraph))\n",
    "                    tokens = []\n",
    "                    for token in text:\n",
    "                        if token.pos_ in (\"PROPN\", \"NOUN\", \"VERB\") and token.is_stop == False and len(token.text) > 3:\n",
    "                            tokens.append(\"{}_{}\".format(token.lemma_, token.pos_))\n",
    "                    yield tokens\n",
    "                    paragraph = []\n",
    "                else:    \n",
    "                    paragraph.append(line)\n",
    "            \n",
    "\n",
    "data = MyText(\"capitalcritiqueo00marx_djvu.txt\")"
   ]
  },
  {
   "cell_type": "code",
   "execution_count": 2,
   "metadata": {},
   "outputs": [],
   "source": [
    "model = gensim.models.Word2Vec(data, size=70, min_count=7, iter=15, workers=10)"
   ]
  },
  {
   "cell_type": "code",
   "execution_count": 3,
   "metadata": {},
   "outputs": [
    {
     "name": "stdout",
     "output_type": "stream",
     "text": [
      "The vocabulary contains 1469 tokens.\n"
     ]
    }
   ],
   "source": [
    "print(\"The vocabulary contains {} tokens.\".format(len(model.wv.vocab)))"
   ]
  },
  {
   "cell_type": "code",
   "execution_count": 4,
   "metadata": {},
   "outputs": [
    {
     "data": {
      "text/plain": [
       "dict_keys(['prefaces_PROPN', 'share_NOUN', 'work_NOUN', 'bear_VERB', 'whole_NOUN', 'edition_NOUN', 'be_VERB', 'make_VERB', 'basis_NOUN', 'prepare_VERB', 'note_NOUN', 'leave_VERB', 'author_NOUN', 'indicate_VERB', 'passage_NOUN', 'replace_VERB', 'designate_VERB', 'text_NOUN', 'publish_VERB', 'alteration_NOUN', 'effect_VERB', 'coincide_VERB', 'change_NOUN', 'prescribe_VERB', 'marx_PROPN', 'english_PROPN', 'translation_NOUN', 'year_NOUN', 'america_PROPN', 'want_NOUN', 'place_VERB', 'disposal_NOUN', 'friend_NOUN', 'consider_VERB', 'liberty_NOUN', 'case_NOUN', 'help_VERB', 'difficulty_NOUN', 'refer_VERB', 'what_NOUN', 'something_NOUN', 'import_NOUN', 'sacrifice_VERB', 'could_VERB', 'term_NOUN', 'sense_NOUN', 'have_VERB', 'life_NOUN', 'political_PROPN', 'economy_PROPN', 'aspect_NOUN', 'science_NOUN', 'involve_VERB', 'revolution_NOUN', 'show_VERB', 'change_VERB', 'will_VERB', 'find_VERB', 'go_VERB', 'series_NOUN', 'name_NOUN', 'take_VERB', 'operate_VERB', 'fail_VERB', 'do_VERB', 'confine_VERB', 'circle_NOUN', 'idea_NOUN', 'express_VERB', 'profit_NOUN', 'division_NOUN', 'part_NOUN', 'product_NOUN', 'labourer_NOUN', 'supply_VERB', 'employer_NOUN', 'owner_NOUN', 'receive_VERB', 'notion_NOUN', 'rent_NOUN', 'examine_VERB', 'capital_PROPN', 'karl_PROPN', 'paris_PROPN', 'book_NOUN', 'contain_VERB', 'addition_NOUN', 'preface_VERB', 'call_VERB', 'arrive_VERB', 'comprehension_NOUN', 'origin_NOUN', 'nature_NOUN', 'law_NOUN', 'regulate_VERB', 'distribution_NOUN', 'value_NOUN', 'industry_NOUN', 'handicraft_NOUN', 'comprise_VERB', 'manufacture_NOUN', 'tion_NOUN', 'period_NOUN', 'history_NOUN', 'base_VERB', 'labour_NOUN', 'machinery_NOUN', 'self_NOUN', 'theory_NOUN', 'view_VERB', 'production_NOUN', 'pass_VERB', 'stage_NOUN', 'mankind_NOUN', 'must_VERB', 'writer_NOUN', 'look_VERB', 'form_NOUN', 'word_NOUN', 'method_NOUN', 'quote_VERB', 'place_NOUN', 'majority_NOUN', 'quotation_NOUN', 'serve_VERB', 'evidence_NOUN', 'support_NOUN', 'instance_NOUN', 'order_NOUN', 'whom_NOUN', 'proposition_NOUN', 'time_NOUN', 'expression_NOUN', 'exchange_NOUN', 'run_VERB', 'measure_NOUN', 'rank_VERB', 'german_PROPN', 'third_NOUN', 'book_PROPN', 'bring_VERB', 'think_VERB', 'kapital_PROPN', 'bible_PROPN', 'class_NOUN', 'conclusion_NOUN', 'become_VERB', 'principle_NOUN', 'movement_NOUN', 'germany_PROPN', 'france_PROPN', 'holland_PROPN', 'working_NOUN', 'recognise_VERB', 'condition_NOUN', 'deny_VERB', 'england_PROPN', 'moment_NOUN', 'exercise_VERB', 'influence_NOUN', 'spread_VERB', 'people_NOUN', 'impose_VERB', 'necessity_NOUN', 'work_VERB', 'system_NOUN', 'country_NOUN', 'extension_NOUN', 'there-_NOUN', 'fore_NOUN', 'market_NOUN', 'come_VERB', 'trade_NOUN', 'manchester_PROPN', 'develop_VERB', 'face_NOUN', 'side_NOUN', 'power_NOUN', 'increase_NOUN', 'sion_NOUN', 'proceed_VERB', 'ratio_NOUN', 'stagnation_NOUN', 'prosperity_NOUN', 'crisis_NOUN', 'seem_VERB', 'course_NOUN', 'land_VERB', 'perceive_VERB', 'vanish_VERB', 'succeed_VERB', 'winter_NOUN', 'question_NOUN', 'number_NOUN', 'keep_VERB', 'answer_VERB', 'calculate_VERB', 'lose_VERB', 'hand_NOUN', 'ought_VERB', 'hear_VERB', 'result_NOUN', 'europe_PROPN', 'may_VERB', 'mean_VERB', 'forget_VERB', 'expect_VERB', 'slavery_NOUN', 'engels_PROPN', 'november_PROPN', 'meeting_NOUN', 'commerce_PROPN', 'hold_VERB', 'afternoon_NOUN', 'subject_NOUN', 'move_VERB', 'effect_NOUN', 'nation_NOUN', 'follow_VERB', 'free_PROPN', 'example_NOUN', 'position_NOUN', 'figure_NOUN', 'french_PROPN', 'volume_NOUN', 'public_NOUN', 'form_VERB', 'kritik_PROPN', 'criticism_NOUN', 'duration_NOUN', 'interrupt_VERB', 'substance_NOUN', 'chapter_NOUN', 'sake_NOUN', 'connexion_NOUN', 'matter_NOUN', 'improve_VERB', 'circumstance_NOUN', 'point_NOUN', 'touch_VERB', 'section_NOUN', 'money_NOUN', 'reader_NOUN', 'source_NOUN', 'reference_NOUN', 'beginning_NOUN', 'stand_VERB', 'analysis_NOUN', 'commodity_NOUN', 'present_VERB', 'concern_VERB', 'magnitude_NOUN', 'give_VERB', 'explanation_NOUN', 'borrow_VERB', 'shape_NOUN', 'mind_NOUN', 'seek_VERB', 'body_NOUN', 'chemical_NOUN', 'force_NOUN', 'abstraction_NOUN', 'society_NOUN', 'turn_VERB', 'fact_NOUN', 'deal_VERB', 'exception_NOUN', 'learn_VERB', 'observe_VERB', 'phenomenon_NOUN', 'occur_VERB', 'disturb_VERB', 'experiment_NOUN', 'mode_NOUN', 'correspond_VERB', 'ground_NOUN', 'reason_NOUN', 'use_VERB', 'development_NOUN', 'con-_NOUN', 'fashion_NOUN', 'thought_NOUN', 'thing_NOUN', 'tell_VERB', 'degree_NOUN', 'antagonism_NOUN', 'result_VERB', 'tendency_NOUN', 'iron_NOUN', 'neces-_NOUN', 'writing_NOUN', 'capital_NOUN', 'amp;c_NOUN', 'create_VERB', 'purpose_NOUN', 'speak_VERB', 'application_NOUN', 'nothing_NOUN', 'future_NOUN', 'factory_NOUN', 'factory_PROPN', 'acts_PROPN', 'want_VERB', 'sphere_NOUN', 'rest_NOUN', 'suffer_VERB', 'evil_NOUN', 'arise_VERB', 'living_NOUN', 'statistic_NOUN', 'comparison_NOUN', 'raise_VERB', 'head_NOUN', 'should_VERB', 'state_NOUN', 'home_NOUN', 'appoint_VERB', 'inquiry_NOUN', 'truth_NOUN', 'respect_NOUN', 'person_NOUN', 'tory_NOUN', 'inspector_NOUN', 'health_NOUN', 'com-_NOUN', 'exploitation_NOUN', 'woman_NOUN', 'child_NOUN', 'food_NOUN', 'wear_VERB', 'draw_VERB', 'eye_NOUN', 'believe_VERB', 'century_NOUN', 'independence_NOUN', 'american_PROPN', 'civil_PROPN', 'progress_NOUN', 'reach_VERB', 'accord_VERB', 'interest_NOUN', 'rule_VERB', 'one_NOUN', 'other_NOUN', 'space_NOUN', 'detail_NOUN', 'legislation_NOUN', 'preface_NOUN', 'discovery_NOUN', 'motion_NOUN', 'remove_VERB', 'enactment_NOUN', 'offer_VERB', 'phase_NOUN', 'shorten_VERB', 'lessen_VERB', 'prevent_VERB', 'capitalist_NOUN', 'landlord_NOUN', 'rise_VERB', 'individual_NOUN', 'category_NOUN', 'embodiment_NOUN', 'relation_NOUN', 'standpoint_NOUN', 'formation_NOUN', 'proc-_NOUN', 'remain_VERB', 'domain_NOUN', 'meet_VERB', 'material_NOUN', 'field_NOUN', 'passion_NOUN', 'attack_NOUN', 'article_NOUN', 'income_NOUN', 'day_NOUN', 'compare_VERB', 'exist_VERB', 'property_NOUN', 'advance_NOUN', 'week_NOUN', 'regard_VERB', 'union_NOUN', 'representative_NOUN', 'declare_VERB', 'rela-_NOUN', 'vice_NOUN', 'united_PROPN', 'states_PROPN', 'land_NOUN', 'hide_VERB', 'happen_VERB', 'organism_NOUN', 'treat_VERB', 'process_NOUN', 'circulation_NOUN', 'assume_VERB', 'opinion_NOUN', 'mine_NOUN', 'london_PROPN', 'july_PROPN', 'explain_VERB', 'start_VERB', 'inform_VERB', 'strike_VERB', 'mark_VERB', 'regard_NOUN', 'equation_NOUN', 'carry_VERB', 'determination_NOUN', 'allude_VERB', 'value_PROPN', 'task_NOUN', 'remark_VERB', 'spring_NOUN', 'need_VERB', 'commodities_PROPN', 'alter_VERB', 'berlin_PROPN', 'write_VERB', 'extent_NOUN', 'would_VERB', 'waste_NOUN', 'trans-_NOUN', 'lation_NOUN', 'appear_VERB', 'need_NOUN', 'require_VERB', 'sell_VERB', 'printing_NOUN', 'begin_VERB', 'january_PROPN', 'gain_VERB', 'herr_PROPN', 'manufacturer_NOUN', 'represent_VERB', 'bourgeois_NOUN', 'view_NOUN', 'capacity_NOUN', 'possession_NOUN', 'disappear_VERB', 'contrary_NOUN', 'celebrate_VERB', 'description_NOUN', 'industry_PROPN', 'length_NOUN', 'stance_NOUN', 'capi-_NOUN', 'talist_NOUN', 'soil_NOUN', 'professor_NOUN', 'reality_NOUN', 'world_NOUN', 'consciousness_NOUN', 'conceal_VERB', 'economist_NOUN', 'existence_NOUN', 'allow_VERB', 'investigate_VERB', 'bound_NOUN', 'struggle_NOUN', 'manifest_VERB', 'belong_VERB', 'ricardo_PROPN', 'wage_NOUN', 'starting_NOUN', 'investigation_NOUN', 'nature_PROPN', 'economy_NOUN', 'limit_NOUN', 'opposition_NOUN', 'activity_NOUN', 'extend_VERB', 'contest_NOUN', 'school_NOUN', 'know_VERB', 'ture_NOUN', 'character_NOUN', 'open_VERB', 'force_VERB', 'ment_NOUN', 'mass_NOUN', 'bourgeoisie_NOUN', 'break_VERB', 'corn_PROPN', 'death_NOUN', 'account_NOUN', 'deprive_VERB', 'claim_VERB', 'try_VERB', 'claim_NOUN', 'proletariat_NOUN', 'john_PROPN', 'stuart_PROPN', 'mill_PROPN', 'event_NOUN', 'throw_VERB', 'light_NOUN', 'master_NOUN', 'attain_VERB', 'fall_VERB', 'group_NOUN', 'business_NOUN', 'bastiat_PROPN', 'attempt_NOUN', 'fit_VERB', 'worker_NOUN', 'press_NOUN', 'professor_PROPN', 'feel_VERB', 'benefit_NOUN', 'gentleman_NOUN', 'notice_NOUN', 'saturday_PROPN', 'say_VERB', 'invest_VERB', 'issue_NOUN', 'april_PROPN', 'distinguish_VERB', 'spite_NOUN', 'language_NOUN', 'smith_PROPN', 'employ_VERB', 'understand_VERB', 'conception_NOUN', 'shop_NOUN', 'answer_NOUN', 'virtue_NOUN', 'sight_NOUN', 'judgment_NOUN', 'mate-_NOUN', 'variation_NOUN', 'transition_NOUN', 'discover_VERB', 'establish_VERB', 'prove_VERB', 'human_NOUN', 'will_NOUN', 'determine_VERB', 'civilisation_NOUN', 'element_NOUN', 'play_VERB', 'anything_NOUN', 'succession_NOUN', 'apply_VERB', 'present_NOUN', 'past_NOUN', 'live_VERB', 'branch_NOUN', 'differ_VERB', 'animal_NOUN', 'conse-_NOUN', 'structure_NOUN', 'organ_NOUN', 'function_VERB', 'amp;c_PROPN', 'population_NOUN', 'assert_VERB', 'vary_VERB', 'set_VERB', 'sway_NOUN', 'manner_NOUN', 'lie_VERB', 'latter_NOUN', 'appropriate_VERB', 'describe_VERB', 'reflect_VERB', 'construction_NOUN', 'hegel_PROPN', 'brain_NOUN', 'transform_VERB', 'means_NOUN', 'include_VERB', 'contradiction_NOUN', 'intensity_NOUN', 'action_NOUN', 'citizen_NOUN', 'consideration_NOUN', 'everything_NOUN', 'overcome_VERB', 'road_NOUN', 'chance_NOUN', 'march_PROPN', 'produce_VERB', 'fulfil_VERB', 'compel_VERB', 'render_VERB', 'introduce_VERB', 'care_NOUN', 'bind_VERB', 'complete_VERB', 'defect_NOUN', 'possess_VERB', 'destine_VERB', 'opponent_NOUN', 'die_VERB', 'duty_NOUN', 'attend_VERB', 'account_VERB', 'discharge_VERB', 'intention_NOUN', 'insert_VERB', 'date_NOUN', 'provide_VERB', 'precede_VERB', 'transfer_VERB', 'with-_PROPN', 'cash_NOUN', 'travail_NOUN', 'occupation_NOUN', 'convert_VERB', 'coin_NOUN', 'weight_NOUN', 'equivalent_NOUN', 'kind_NOUN', 'mark_NOUN', 'imagination_NOUN', 'invent_VERB', 'prevail_VERB', 'unit_NOUN', 'proof_NOUN', 'control_VERB', 'cotton_NOUN', 'statement_NOUN', 'cite_VERB', 'intend_VERB', 'state_VERB', 'ignorance_NOUN', 'characteristic_NOUN', 'occasion_NOUN', 'remark_NOUN', 'add_VERB', 'demand_VERB', 'constitute_VERB', 'page_NOUN', 'accumulate_VERB', 'read_VERB', 'yield_VERB', 'meaning_NOUN', 'steuart_PROPN', 'worth_NOUN', 'note_VERB', 'retain_VERB', 'oblige_VERB', 'concordia_PROPN', 'gladstone_PROPN', 'repeat_VERB', 'sentence_NOUN', 'augmentation_NOUN', 'wealth_NOUN', 'report_NOUN', 'hansard_PROPN', 'speech_NOUN', 'type_NOUN', 'send_VERB', 'june_PROPN', 'limit_VERB', 'times_PROPN', 'labour_VERB', 'found_VERB', 'return_NOUN', 'invention_NOUN', 'get_VERB', 'sweep_VERB', 'custom_NOUN', 'stick_VERB', 'save_VERB', 'abuse_NOUN', 'print_VERB', 'august_PROPN', 'report_VERB', 'reproduce_VERB', 'morning_NOUN', 'rate_NOUN', 'suppose_VERB', 'month_NOUN', 'letter_NOUN', 'taylor_PROPN', 'sort_NOUN', 'seize_VERB', 'pretext_NOUN', 'shift_NOUN', 'brentano_PROPN', 'reduce_VERB', 'agree_VERB', 'exclude_VERB', 'isolate_VERB', 'withdraw_VERB', 'george_PROPN', 'foot_NOUN', 'scene_NOUN', 'refuse_VERB', 'importance_NOUN', 'admit_VERB', 'characterise_VERB', 'maintain_VERB', 'suppress_VERB', 'line_NOUN', 'cry_VERB', 'resolve_VERB', 'conclude_VERB', 'sum_VERB', 'restore_VERB', 'spin_VERB', 'decade_NOUN', 'doubt_NOUN', 'capitalist_PROPN', 'factor_NOUN', 'modity_NOUN', 'object_NOUN', 'spring_VERB', 'ence_NOUN', 'satisfy_VERB', 'mean_NOUN', 'subsistence_NOUN', 'paper_NOUN', 'quality_NOUN', 'quantity_NOUN', 'way_NOUN', 'establishment_NOUN', 'imply_VERB', 'hunger_NOUN', 'barbon_PROPN', 'coin_VERB', 'money_PROPN', 'locke_PROPN', 'attract_VERB', 'production_PROPN', 'standard_NOUN', 'measure_VERB', 'utility_NOUN', 'corn_NOUN', 'diamond_NOUN', 'amount_NOUN', 'dozen_NOUN', 'watch_NOUN', 'yard_NOUN', 'linen_NOUN', 'furnish_VERB', 'knowledge_NOUN', 'consumption_NOUN', 'tive_NOUN', 'proportion_NOUN', 'exchange_VERB', 'connect_VERB', 'consist_VERB', 'works_PROPN', 'lond_PROPN', 'accordance_NOUN', 'spirit_NOUN', 'buyer_NOUN', 'choose_VERB', 'trosne_PROPN', 'daire_PROPN', 'quarter_NOUN', 'wheat_NOUN', 'silk_NOUN', 'gold_NOUN', 'tie_NOUN', 'exchange-_NOUN', 'portion_NOUN', 'equate_VERB', 'attention_NOUN', 'affect_VERB', 'difference_NOUN', 'distinction_NOUN', 'pound_NOUN', 'silver_NOUN', 'moditie_NOUN', 'table_NOUN', 'house_NOUN', 'yarn_NOUN', 'spinner_NOUN', 'embody_VERB', 'abstract_NOUN', 'expenditure_NOUN', 'expend_VERB', 'see_VERB', 'commod-_NOUN', 'itie_NOUN', 'materialise_VERB', 'turn_NOUN', 'hour_NOUN', 'spend_VERB', 'duction_NOUN', 'uniform_NOUN', 'bour_PROPN', 'total_NOUN', 'count_VERB', 'labour-_NOUN', 'average_NOUN', 'skill_NOUN', 'introduction_NOUN', 'loom_NOUN', 'half_NOUN', 'weave_VERB', 'cloth_NOUN', 'weaver_NOUN', 'continue_VERB', 'necessary_NOUN', 'general_PROPN', 'meme_NOUN', 'genre_NOUN', 'prix_NOUN', 'productiveness_NOUN', 'workman_NOUN', 'organisation_NOUN', 'season_NOUN', 'metal_NOUN', 'earth_NOUN', 'cost_NOUN', 'pay_VERB', 'produce_NOUN', 'end_VERB', 'realise_VERB', 'price_NOUN', 'sugar_NOUN', 'coffee_NOUN', 'cost_VERB', 'incorporate_VERB', 'peasant_NOUN', 'lord_NOUN', 'fold_NOUN', 'point_VERB', 'coat_NOUN', 'operation_NOUN', 'tailoring_NOUN', 'weaving_NOUN', 'rise_NOUN', 'consume_VERB', 'producer_NOUN', 'variety_NOUN', 'specie_NOUN', 'community_NOUN', 'divide_VERB', 'operative_NOUN', 'tailor_NOUN', 'clothing_NOUN', 'race_NOUN', 'clothe_NOUN', 'combination_NOUN', 'help_NOUN', 'william_PROPN', 'petty_PROPN', 'put_VERB', 'father_NOUN', 'mother_NOUN', 'assumption_NOUN', 'function_NOUN', 'glance_NOUN', 'demand_NOUN', 'parte_PROPN', 'moderna_PROPN', 'muscle_NOUN', 'count_NOUN', 'multiply_VERB', 'experience_NOUN', 'reduction_NOUN', 'fix_VERB', 'simplicity_NOUN', 'shall_VERB', 'congelation_NOUN', 'creation_NOUN', 'owe_VERB', 'tain_VERB', 'double_VERB', 'service_NOUN', 'clothe_VERB', 'increase_VERB', 'fall_NOUN', 'efficacy_NOUN', 'pendent_NOUN', 'yield_NOUN', 'consequence_NOUN', 'diminish_VERB', 'adam_PROPN', 'strength_NOUN', 'freedom_NOUN', 'wealth_PROPN', 'nations_PROPN', 'good_NOUN', 'enter_VERB', 'composition_NOUN', 'acquire_VERB', 'return_VERB', 'contrast_NOUN', 'ance_NOUN', 'being_NOUN', 'equiva-_NOUN', 'lend_VERB', 'advantage_NOUN', 'labour_PROPN', 'pole_NOUN', 'rial_NOUN', 'extreme_NOUN', 'reverse_VERB', 'depend_VERB', 'commodi-_NOUN', 'denomination_NOUN', 'bailey_PROPN', 'occupy_VERB', 'command_NOUN', 'identity_NOUN', 'value-_NOUN', 'problem_NOUN', 'piece_NOUN', 'thread_NOUN', 'estimate_VERB', 'equality_NOUN', 'communication_NOUN', 'appearance_NOUN', 'act_NOUN', 'glass_NOUN', 'tity_NOUN', 'flax_NOUN', 'grow_VERB', 'duc_VERB', 'wool_NOUN', 'sink_VERB', 'cause_NOUN', 'sary_NOUN', 'direction_NOUN', 'exploit_VERB', 'rest_VERB', 'unity_NOUN', 'oppose_VERB', 'suffice_VERB', 'observation_NOUN', 'act_VERB', 'loaf_NOUN', 'manifestation_NOUN', 'scale_NOUN', 'cease_VERB', 'endow_VERB', 'confront_VERB', 'renew_VERB', 'reflex_NOUN', 'king_NOUN', 'because_VERB', 'imagine_VERB', 'medium_NOUN', 'aristotle_PROPN', 'absence_NOUN', 'concept_NOUN', 'secret_NOUN', 'obtain_VERB', 'par-_NOUN', 'ganilh_PROPN', 'stress_NOUN', 'perfection_NOUN', 'list_NOUN', 'epoch_NOUN', 'transformation_NOUN', 'commerce_NOUN', 'deficiency_NOUN', 'undergo_VERB', 'metamorphosis_NOUN', 'relative_NOUN', 'prolong_VERB', 'expand_VERB', 'ounce_NOUN', 'rie_NOUN', 'mining_NOUN', 'accident_NOUN', 'lay_VERB', 'finger_NOUN', 'realisation_NOUN', 'chain_NOUN', 'lengthen_VERB', 'cattle_NOUN', 'incarnation_NOUN', 'success_NOUN', 'trick_NOUN', 'comprehend_VERB', 'component_NOUN', 'noon_NOUN', 'wood_NOUN', 'step_VERB', 'prod-_NOUN', 'stamp_VERB', 'attach_VERB', 'rule_NOUN', 'contact_NOUN', 'practice_NOUN', 'atmosphere_NOUN', 'galiani_PROPN', 'fluctuation_NOUN', 'hand_VERB', 'disclose_VERB', 'boot_NOUN', 'robinson_PROPN', 'tool_NOUN', 'calculation_NOUN', 'implement_NOUN', 'aim_VERB', 'commence_VERB', 'stock_NOUN', 'exertion_NOUN', 'age_NOUN', 'dependence_NOUN', 'transaction_NOUN', 'payment_NOUN', 'family_NOUN', 'tend_VERB', 'regulation_NOUN', 'member_NOUN', 'earn_VERB', 'india_PROPN', 'plan_NOUN', 'religion_NOUN', 'conversion_NOUN', 'unite_VERB', 'none_NOUN', 'strip_VERB', 'ask_VERB', 'formula_NOUN', 'destutt_PROPN', 'rich_NOUN', 'employment_NOUN', 'derive_VERB', 'econ_PROPN', 'absorb_VERB', 'stamp_NOUN', 'perfect_VERB', 'water_NOUN', 'proclaim_VERB', 'institution_NOUN', 'slave_NOUN', 'chief_NOUN', 'relate_VERB', 'mouth_NOUN', 'neighbour_NOUN', 'supply_NOUN', 'lond_NOUN', 'resistance_NOUN', 'right_NOUN', 'contract_NOUN', 'leather_NOUN', 'justice_NOUN', 'foundation_NOUN', 'soul_NOUN', 'part_VERB', 'wish_VERB', 'rep._PROPN', 'desire_VERB', 'differentiation_NOUN', 'barter_NOUN', 'step_NOUN', 'alienation_NOUN', 'state_PROPN', 'boundary_NOUN', 'abolish_VERB', 'repetition_NOUN', 'mention_VERB', 'bond_NOUN', 'perform_VERB', 'stop_VERB', 'luxury_NOUN', 'symbol_NOUN', 'bullion_NOUN', 'reckon_VERB', 'purchase_VERB', 'trade_PROPN', 'wine_NOUN', 'stuff_NOUN', 'east_PROPN', 'kingdom_NOUN', 'suit_VERB', 'favour_NOUN', 'lawyer_NOUN', 'roman_PROPN', 'decree_NOUN', 'provision_NOUN', 'forbid_VERB', 'direct_VERB', 'procure_VERB', 'shilling_NOUN', 'company_NOUN', 'roscher_PROPN', 'credit_NOUN', 'control_NOUN', 'chapter_PROPN', 'circulation_PROPN', 'certificate_NOUN', 'hang_VERB', 'trader_NOUN', 'north_PROPN', 'appropriation_NOUN', 'size_NOUN', 'health_PROPN', 'million_NOUN', 'copper_NOUN', 'report_PROPN', 'blood_NOUN', 'fraction_NOUN', 'cause_VERB', 'export_VERB', 'combine_VERB', 'currency_NOUN', 'export_NOUN', 'excess_NOUN', 'amount_VERB', 'adapt_VERB', 'quanti-_NOUN', 'circulate_VERB', 'tween_NOUN', 'separation_NOUN', 'habit_NOUN', 'penny_NOUN', 'creditor_NOUN', 'lord_PROPN', 'reproduction_NOUN', 'possibility_NOUN', 'compensate_VERB', 'sale_NOUN', 'enable_VERB', 'flesh_NOUN', 'culation_NOUN', 'because_NOUN', 'face_VERB', 'move_NOUN', 'accompany_VERB', 'selling_NOUN', 'buying_NOUN', 'pocket_NOUN', 'requirement_NOUN', 'conduct_VERB', 'supersede_VERB', 'horse_NOUN', 'love_NOUN', 'propose_VERB', 'free_VERB', 'seller_NOUN', 'purchase_NOUN', 'mercier_PROPN', 'riviere_PROPN', 'pour_VERB', 'restriction_NOUN', 'possessor_NOUN', 'buy_VERB', 'split_VERB', 'lead_VERB', 'main_NOUN', 'engage_VERB', 'inverse_NOUN', 'circuit_NOUN', 'mix_VERB', 'growth_NOUN', 'actor_NOUN', 'farmer_NOUN', 'interval_NOUN', 'purchaser_NOUN', 'splitting_NOUN', 'james_PROPN', 'transfer_NOUN', 'beget_VERB', 'displace_VERB', 'circu-_NOUN', 'circulating_NOUN', 'completion_NOUN', 'velocity_NOUN', 'rapidity_NOUN', 'substitution_NOUN', 'advance_VERB', 'merchant_NOUN', 'man-_PROPN', 'decrease_VERB', 'decrease_NOUN', 'level_NOUN', 'current_NOUN', 'drive_VERB', 'consumer_NOUN', 'fill_VERB', 'ferguson_PROPN', 'vanderlint_PROPN', 'lond_VERB', 'balance_NOUN', \"qu'il_PROPN\", 'government_PROPN', 'loss_NOUN', 'token_NOUN', 'minute_NOUN', 'wear_NOUN', 'tear_NOUN', 'exceed_VERB', 'collect_VERB', 'issue_VERB', 'surplus_NOUN', 'dealer_NOUN', 'inquiry_PROPN', 'great_PROPN', 'britain_PROPN', 'edinburgh_PROPN', 'bank_NOUN', 'committee_PROPN', 'china_PROPN', 'com-_PROPN', 'house_PROPN', 'bank_PROPN', 'minimum_NOUN', 'constituent_NOUN', 'limitation_NOUN', 'government_NOUN', 'authority_NOUN', 'hoard_NOUN', 'necessitate_VERB', 'greed_NOUN', 'poor_PROPN', 'facture_NOUN', 'bone_NOUN', 'denounce_VERB', 'modern_PROPN', 'servant_NOUN', 'annex_VERB', 'flow_VERB', 'expansion_NOUN', 'reserve_NOUN', 'separate_VERB', 'debtor_NOUN', 'essay_PROPN', 'concentrate_VERB', 'debt_NOUN', 'agent_NOUN', 'indus-_NOUN', 'mechanism_NOUN', 'heighten_VERB', 'room_NOUN', \"o'clock_NOUN\", 'bill_NOUN', 'tax_NOUN', 'misery_NOUN', 'regularity_NOUN', 'agriculture_NOUN', 'wheel_NOUN', 'commons_PROPN', 'scotland_PROPN', 'expense_NOUN', 'artisan_NOUN', 'ireland_PROPN', 'railway_NOUN', 'extract_VERB', 'macculloch_PROPN', 'stone_NOUN', 'stream_NOUN', 'party_NOUN', 'reflux_NOUN', 'surplus-_NOUN', 'bread_NOUN', 'acknowledge_VERB', 'augment_VERB', 'making_NOUN', 'chrematistic_PROPN', 'strive_VERB', 'edit_NOUN', 'gain_NOUN', 'polit_PROPN', 'econ_NOUN', \"d'econ_PROPN\", 'preserve_VERB', 'generation_NOUN', 'cap-_NOUN', 'set_NOUN', 'permit_VERB', 'ness_NOUN', 'privilege_NOUN', 'torrens_PROPN', 'diminution_NOUN', 'town_NOUN', 'distribute_VERB', 'ital_NOUN', 'essary_NOUN', 'maintenance_NOUN', 'requisite_NOUN', 'waste_VERB', 'education_NOUN', 'outlay_NOUN', 'support_VERB', 'baker_NOUN', 'journeyman_NOUN', 'dust_NOUN', 'adulteration_NOUN', 'district_NOUN', 'public_PROPN', 'strike_NOUN', 'factories_PROPN', 'October_PROPN', 'coal_NOUN', 'children_PROPN', 'employment_PROPN', 'commission_PROPN', 'process_PROPN', 'bourer_NOUN', 'commencement_NOUN', 'play_NOUN', 'instrument_NOUN', 'fabrication_NOUN', 'decide_VERB', 'strument_NOUN', 'workshop_NOUN', 'blacksmith_NOUN', 'seed_NOUN', 'appear_NOUN', 'spindle_NOUN', 'knife_NOUN', 'machine_NOUN', 'sleep_NOUN', 'spinning_NOUN', 'secure_VERB', 'surplus_PROPN', 'manufacture_VERB', 'build_VERB', 'steel_NOUN', 'maker_NOUN', 'threaten_VERB', 'close_VERB', 'street_NOUN', 'work-_NOUN', 'exclaim_VERB', 'manager_NOUN', 'mule_NOUN', 'code_NOUN', 'implement_VERB', 'construct_VERB', 'model_NOUN', 'cent_NOUN', 'last_VERB', 'lengthening_NOUN', 'meal_NOUN', 'exhaust_VERB', 'wales_PROPN', 'variable_PROPN', 'forge_VERB', 'loom_VERB', 'exert_VERB', 'sixpence_NOUN', 'wind_NOUN', 'engineer_NOUN', 'pair_NOUN', 'evening_NOUN', 'assist_VERB', 'mill_NOUN', 'engine_NOUN', 'steam_NOUN', 'vigour_NOUN', 'finish_VERB', 'val-_NOUN', 'preparation_NOUN', 'building_NOUN', 'cylinder_NOUN', 'tenth_NOUN', 'senior_PROPN', 'teach_VERB', 'agitation_NOUN', 'destroy_VERB', 'manufac-_NOUN', 'leonard_PROPN', 'horner_PROPN', 'workpeople_NOUN', 'heart_NOUN', 'boy_NOUN', 'girl_NOUN', 'kingdom_PROPN', 'insp_PROPN', 'fact_PROPN', 'passing_NOUN', 'petition_NOUN', 'clause_NOUN', 'parent_NOUN', 'dren_NOUN', 'village_NOUN', 'parliament_PROPN', 'manufacturing_NOUN', 'society_PROPN', 'corvee_NOUN', 'suffering_NOUN', 'victory_NOUN', 'middle_NOUN', 'holiday_NOUN', 'october_PROPN', 'breakfast_NOUN', 'dinner_NOUN', 'inspectors_PROPN', 'adult_NOUN', 'reports_PROPN', 'firm_NOUN', 'inspector_PROPN', '31st_NOUN', 'friday_PROPN', 'woollen_NOUN', 'timer_NOUN', 'department_NOUN', 'surpass_VERB', 'night_NOUN', 'frame_NOUN', 'pottery_NOUN', 'male_NOUN', 'disease_NOUN', 'potter_NOUN', 'comm_PROPN', 'deterioration_NOUN', 'white_PROPN', 'intermission_NOUN', 'command_VERB', 'sleep_VERB', 'heat_NOUN', 'sunday_PROPN', 'competition_NOUN', 'afford_VERB', 'pressure_NOUN', 'sex_NOUN', 'relay_NOUN', 'prolongation_NOUN', 'furnace_NOUN', 'lancashire_PROPN', 'messrs._PROPN', 'sanderson_PROPN', 'apprentice_NOUN', 'manufactory_NOUN', 'tribe_NOUN', 'punish_VERB', 'breach_NOUN', 'redgrave_PROPN', 'workhouse_NOUN', 'attendance_NOUN', 'bill_PROPN', 'statute_NOUN', 'shortening_NOUN', 'artificer_NOUN', 'execute_VERB', 'hours_PROPN', 'assign_VERB', 'protection_NOUN', 'clock_NOUN', 'revolt_NOUN', 'carpet_NOUN', 'revolutionise_VERB', 'improvement_NOUN', 'guild_NOUN', 'cheapen_VERB', 'handicraftsman_NOUN', 'speed_NOUN', 'concentration_NOUN', 'transport_NOUN', 'manufacture_PROPN', 'carriage_NOUN', 'needle_NOUN', 'crease_VERB', 'specialise_VERB', 'handle_VERB', 'transmit_VERB', 'hammer_NOUN', 'cut_VERB', 'apparatus_NOUN', 'babbage_PROPN', 'machinery_PROPN', 'mechanic_NOUN', 'chine_NOUN', 'automaton_NOUN', 'sewing_NOUN', 'mover_NOUN', 'throstle_NOUN', 'piston_NOUN', 'watt_PROPN', 'machin-_NOUN', 'print_NOUN', 'female_NOUN', 'chinery_NOUN', 'cloth_PROPN'])"
      ]
     },
     "execution_count": 4,
     "metadata": {},
     "output_type": "execute_result"
    }
   ],
   "source": [
    "model.wv.vocab.keys()"
   ]
  },
  {
   "cell_type": "code",
   "execution_count": 5,
   "metadata": {},
   "outputs": [
    {
     "name": "stdout",
     "output_type": "stream",
     "text": [
      "[('bour_PROPN', 0.9236874580383301), ('create_VERB', 0.923599362373352), ('productiveness_NOUN', 0.8998245000839233), ('consume_VERB', 0.8980896472930908), ('expend_VERB', 0.8903379440307617)]\n",
      "=======\n",
      "[('degree_NOUN', 0.9745671153068542), ('live_VERB', 0.9568015336990356), ('shorten_VERB', 0.9548390507698059), ('extension_NOUN', 0.94846111536026), ('supply_VERB', 0.9375481605529785)]\n",
      "=======\n",
      "[('essay_PROPN', 0.9977242946624756), ('torrens_PROPN', 0.992271900177002), ('section_NOUN', 0.9650440216064453), ('science_NOUN', 0.9487770199775696), ('paris_PROPN', 0.9472794532775879)]\n",
      "=======\n",
      "[('journeyman_NOUN', 0.9935593008995056), ('committee_PROPN', 0.9933854341506958), ('inspector_PROPN', 0.9923052191734314), ('petition_NOUN', 0.99211186170578), ('parliament_PROPN', 0.9920125007629395)]\n",
      "=======\n",
      "[('political_PROPN', 0.9769187569618225), ('trade_PROPN', 0.9336150884628296), ('history_NOUN', 0.9311421513557434), ('employment_PROPN', 0.9309288263320923), ('commission_PROPN', 0.9265061020851135)]\n"
     ]
    }
   ],
   "source": [
    "print(model.wv.most_similar(positive=[\"labour_NOUN\"], topn=5))\n",
    "print(\"=======\")\n",
    "print(model.wv.most_similar(positive=[\"exploitation_NOUN\"], topn=5))\n",
    "print(\"=======\")\n",
    "print(model.wv.most_similar(positive=[\"wealth_PROPN\"], topn=5))\n",
    "print(\"=======\")\n",
    "print(model.wv.most_similar(positive=[\"scotland_PROPN\"], topn=5))\n",
    "print(\"=======\")\n",
    "print(model.wv.most_similar(positive=[\"economy_PROPN\"], topn=5))"
   ]
  },
  {
   "cell_type": "code",
   "execution_count": 6,
   "metadata": {},
   "outputs": [
    {
     "data": {
      "text/plain": [
       "(502256, 746670)"
      ]
     },
     "execution_count": 6,
     "metadata": {},
     "output_type": "execute_result"
    }
   ],
   "source": [
    "model.train(data, total_words=len(model.wv.vocab.keys()), epochs=10)"
   ]
  },
  {
   "cell_type": "code",
   "execution_count": 7,
   "metadata": {},
   "outputs": [
    {
     "name": "stdout",
     "output_type": "stream",
     "text": [
      "[('create_VERB', 0.9687044620513916), ('expenditure_NOUN', 0.9418447613716125), ('bour_PROPN', 0.9412345886230469), ('count_VERB', 0.9363717436790466), ('abstract_NOUN', 0.9308106899261475)]\n",
      "[('specialise_VERB', 0.9899737238883972), ('assign_VERB', 0.986685574054718), ('revolutionise_VERB', 0.9860734939575195), ('play_NOUN', 0.9854501485824585), ('guild_NOUN', 0.983850359916687)]\n",
      "[('essay_PROPN', 0.9978162050247192), ('torrens_PROPN', 0.9849659204483032), ('theory_NOUN', 0.9560229778289795), ('evil_NOUN', 0.9475080966949463), ('mill_PROPN', 0.944904625415802)]\n",
      "[('committee_PROPN', 0.9935905933380127), ('march_PROPN', 0.993569016456604), ('journeyman_NOUN', 0.9933037161827087), ('inspector_PROPN', 0.992128312587738), ('petition_NOUN', 0.9919497966766357)]\n",
      "[('political_PROPN', 0.9699495434761047), ('science_NOUN', 0.9534783959388733), ('theory_NOUN', 0.9352896213531494), ('history_NOUN', 0.923443615436554), ('volume_NOUN', 0.9141945838928223)]\n"
     ]
    }
   ],
   "source": [
    "print(model.wv.most_similar(positive=[\"labour_NOUN\"], topn=5))\n",
    "print(model.wv.most_similar(positive=[\"manufacture_VERB\"], topn=5))\n",
    "print(model.wv.most_similar(positive=[\"wealth_PROPN\"], topn=5))\n",
    "print(model.wv.most_similar(positive=[\"scotland_PROPN\"], topn=5))\n",
    "print(model.wv.most_similar(positive=[\"economy_PROPN\"], topn=5))"
   ]
  },
  {
   "cell_type": "code",
   "execution_count": 9,
   "metadata": {},
   "outputs": [
    {
     "name": "stdout",
     "output_type": "stream",
     "text": [
      "[('copper_NOUN', 0.9791479110717773), ('bullion_NOUN', 0.9712123870849609), ('import_NOUN', 0.9691593647003174), ('nation_NOUN', 0.9592657685279846), ('coin_VERB', 0.9543654918670654)]\n"
     ]
    }
   ],
   "source": [
    "print(model.wv.most_similar(positive=[\"export_NOUN\"], topn=5))"
   ]
  },
  {
   "cell_type": "code",
   "execution_count": 31,
   "metadata": {},
   "outputs": [
    {
     "name": "stdout",
     "output_type": "stream",
     "text": [
      "[('factory_PROPN', 0.821958601474762), ('district_NOUN', 0.8198416233062744), ('manufacturer_NOUN', 0.8103755712509155), ('england_PROPN', 0.8100759983062744), ('factory_NOUN', 0.7820419073104858)]\n"
     ]
    }
   ],
   "source": [
    "print(model.wv.most_similar(positive=[\"country_NOUN\"], negative=[\"wealth_NOUN\"], topn=5))"
   ]
  },
  {
   "cell_type": "code",
   "execution_count": 12,
   "metadata": {},
   "outputs": [
    {
     "name": "stdout",
     "output_type": "stream",
     "text": [
      "[('system_NOUN', 0.7150136232376099), ('factory_NOUN', 0.6234575510025024), ('factory_PROPN', 0.5868390798568726), ('england_PROPN', 0.5609627962112427), ('century_NOUN', 0.5449818968772888)]\n"
     ]
    }
   ],
   "source": [
    "print(model.wv.most_similar(positive=[\"live_VERB\"], negative=[\"shorten_VERB\"], topn=5))"
   ]
  },
  {
   "cell_type": "code",
   "execution_count": null,
   "metadata": {},
   "outputs": [],
   "source": []
  }
 ],
 "metadata": {
  "kernelspec": {
   "display_name": "Python 3",
   "language": "python",
   "name": "python3"
  },
  "language_info": {
   "codemirror_mode": {
    "name": "ipython",
    "version": 3
   },
   "file_extension": ".py",
   "mimetype": "text/x-python",
   "name": "python",
   "nbconvert_exporter": "python",
   "pygments_lexer": "ipython3",
   "version": "3.6.5"
  }
 },
 "nbformat": 4,
 "nbformat_minor": 2
}
